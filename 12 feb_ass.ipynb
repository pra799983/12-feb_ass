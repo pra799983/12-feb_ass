{
 "cells": [
  {
   "cell_type": "code",
   "execution_count": 2,
   "id": "0b95a1b2-ca8d-407c-a25e-67c82065f6d3",
   "metadata": {},
   "outputs": [],
   "source": [
    "Q1. What is an Exception in python ? write the difference between Exceptions and syntax errors.\n",
    "\n",
    "Exception:  An exception is an event, which occurs during the execution of a program that disrupts the normal flow of the program's instructions.\n",
    "            In general, when a Python script encounters a situation that it cannot cope with, it raises an exception.\n",
    "            An exception is a Python object that represents an error\n",
    "\n",
    "SyntaxError:This exception is raised when the interpreter encounters a syntax error in the code, such as a misspelled keyword, a missing colon,\n",
    "            or an unbalanced parenthesis."
   ]
  },
  {
   "cell_type": "code",
   "execution_count": 4,
   "id": "01af4a5e-7468-4219-80a5-57db448e622c",
   "metadata": {},
   "outputs": [],
   "source": [
    "Q2 what happens when an exception is not handled? explain with example."
   ]
  },
  {
   "cell_type": "code",
   "execution_count": 8,
   "id": "295d16ca-0cd6-4058-b8f5-0a240af6ac81",
   "metadata": {},
   "outputs": [
    {
     "ename": "SyntaxError",
     "evalue": "expected 'except' or 'finally' block (3815125071.py, line 6)",
     "output_type": "error",
     "traceback": [
      "\u001b[0;36m  Cell \u001b[0;32mIn[8], line 6\u001b[0;36m\u001b[0m\n\u001b[0;31m    else :\u001b[0m\n\u001b[0m    ^\u001b[0m\n\u001b[0;31mSyntaxError\u001b[0m\u001b[0;31m:\u001b[0m expected 'except' or 'finally' block\n"
     ]
    }
   ],
   "source": [
    "try:\n",
    "    f  = open(\"test55.txt\",'r')\n",
    "    f.write(\"write something into my file\")\n",
    "#except Exception as e :\n",
    "#    print(\"this is my except block\" , e )\n",
    "else :\n",
    "    print(\"this will be executed once your try will execute without error\")\n",
    "    \n",
    "## As you can  see in this example that there is exception/error. which in handled that is why it is showing an error.    "
   ]
  },
  {
   "cell_type": "code",
   "execution_count": null,
   "id": "c5231ad9-5163-4e02-ad4f-410a857cd684",
   "metadata": {},
   "outputs": [],
   "source": [
    "Q3 which python statement are used to catch and handle exceptions? explain with an example. "
   ]
  },
  {
   "cell_type": "code",
   "execution_count": null,
   "id": "bd83dd27-328c-42e8-8b4e-511a65735a24",
   "metadata": {},
   "outputs": [],
   "source": [
    "try and except :\n",
    "                The try and except block in Python is used to catch and handle exceptions. \n",
    "                Python executes code following the try statement as a “normal” part of the program. The code that follows the except statement \n",
    "                is the program's response to any exceptions in the preceding try clause "
   ]
  },
  {
   "cell_type": "code",
   "execution_count": 10,
   "id": "f6c9b154-3d85-49ae-8b71-ed5a77e31e18",
   "metadata": {},
   "outputs": [],
   "source": [
    "try:\n",
    "    f  = open(\"test56.txt\",'r')\n",
    "except Exception as e :\n",
    "    print(\"this is my except block\" , e)                "
   ]
  },
  {
   "cell_type": "code",
   "execution_count": null,
   "id": "23757b33-46a1-4943-93ff-7ef0dbab698f",
   "metadata": {},
   "outputs": [],
   "source": [
    "Q4 Explain with an example:\n",
    "a. try and else\n",
    "b. finally\n",
    "c. raise"
   ]
  },
  {
   "cell_type": "code",
   "execution_count": 17,
   "id": "613f6c06-55ff-4c58-be04-fc1a135cbc06",
   "metadata": {},
   "outputs": [
    {
     "name": "stdout",
     "output_type": "stream",
     "text": [
      "this will be executed once your try will execute without error\n"
     ]
    }
   ],
   "source": [
    "# try and else\n",
    "try:\n",
    "    f  = open(\"test56.txt\",'w')\n",
    "    f.write(\"write something into my file\")\n",
    "\n",
    "except Exception as e :\n",
    "    print(\"this is my except block\" , e)\n",
    "    \n",
    "else :\n",
    "    f.close()\n",
    "    print(\"this will be executed once your try will execute without error\")"
   ]
  },
  {
   "cell_type": "code",
   "execution_count": 13,
   "id": "be493628-0ce5-4f1a-8605-89aaa5c657c2",
   "metadata": {},
   "outputs": [
    {
     "name": "stdout",
     "output_type": "stream",
     "text": [
      "it will print in any situation whether there is an error or not an error\n"
     ]
    }
   ],
   "source": [
    "# finallyy\n",
    "try:\n",
    "    f  = open(\"test56.txt\",'w')\n",
    "    f.write(\"write something into my file\")\n",
    "finally:\n",
    "    print(\"it will print in any situation whether there is an error or not an error\")    "
   ]
  },
  {
   "cell_type": "code",
   "execution_count": 18,
   "id": "2feba110-513d-4447-8f6a-a8fd1adb6b48",
   "metadata": {},
   "outputs": [
    {
     "name": "stdout",
     "output_type": "stream",
     "text": [
      "An exception\n"
     ]
    },
    {
     "ename": "NameError",
     "evalue": "Hi there",
     "output_type": "error",
     "traceback": [
      "\u001b[0;31m---------------------------------------------------------------------------\u001b[0m",
      "\u001b[0;31mNameError\u001b[0m                                 Traceback (most recent call last)",
      "Cell \u001b[0;32mIn[18], line 4\u001b[0m\n\u001b[1;32m      1\u001b[0m \u001b[38;5;66;03m## raise\u001b[39;00m\n\u001b[1;32m      3\u001b[0m \u001b[38;5;28;01mtry\u001b[39;00m:\n\u001b[0;32m----> 4\u001b[0m     \u001b[38;5;28;01mraise\u001b[39;00m \u001b[38;5;167;01mNameError\u001b[39;00m(\u001b[38;5;124m\"\u001b[39m\u001b[38;5;124mHi there\u001b[39m\u001b[38;5;124m\"\u001b[39m)  \u001b[38;5;66;03m# Raise Error\u001b[39;00m\n\u001b[1;32m      5\u001b[0m \u001b[38;5;28;01mexcept\u001b[39;00m \u001b[38;5;167;01mNameError\u001b[39;00m:\n\u001b[1;32m      6\u001b[0m     \u001b[38;5;28mprint\u001b[39m (\u001b[38;5;124m\"\u001b[39m\u001b[38;5;124mAn exception\u001b[39m\u001b[38;5;124m\"\u001b[39m)\n",
      "\u001b[0;31mNameError\u001b[0m: Hi there"
     ]
    }
   ],
   "source": [
    "## raise\n",
    " \n",
    "try:\n",
    "    raise NameError(\"Hi there\")  # Raise Error\n",
    "except NameError:\n",
    "    print (\"An exception\")\n",
    "    raise  # To determine whether the exception was raised or not"
   ]
  },
  {
   "cell_type": "code",
   "execution_count": null,
   "id": "52740190-05bb-428d-8743-36fa1a11ebd3",
   "metadata": {},
   "outputs": [],
   "source": [
    "Q5 what are custom exceptions in python ? why do we need custom exceptions? expalin with an example."
   ]
  },
  {
   "cell_type": "code",
   "execution_count": 2,
   "id": "c18af116-cde6-4513-9ae8-14694cb47512",
   "metadata": {},
   "outputs": [
    {
     "name": "stdin",
     "output_type": "stream",
     "text": [
      "Enter a number greater than 10:  5\n"
     ]
    },
    {
     "name": "stdout",
     "output_type": "stream",
     "text": [
      "Number should be greater than 10\n"
     ]
    }
   ],
   "source": [
    "# In Python, an exception is a runtime error that occurs during the execution of a program. By default, Python has a set of built-in exceptions like\n",
    "# TypeError, ValueError, IndexError, etc., which can be raised when a particular condition or error occurs.\n",
    "# However, there may be situations where the built-in exceptions are not sufficient to handle specific errors.\n",
    "\n",
    "# In such cases, we can create our own exceptions, which are known as custom exceptions. Custom exceptions allow us to create a specific type of\n",
    "# exception that suits our application's needs.\n",
    "# We need custom exceptions to provide more meaningful and descriptive error messages to users, which can help them to identify the root cause of the \n",
    "# error quickly. \n",
    "# For instance, if we are creating a web application and a user attempts to access a page that requires authentication, we may want to\n",
    "# raise a custom exception called AuthenticationError to notify the user that they need to log in first.\n",
    "\n",
    "class MyCustomException(Exception):\n",
    "    def __init__(self, message):\n",
    "        self.message = message\n",
    "\n",
    "try:\n",
    "    x = int(input(\"Enter a number greater than 10: \"))\n",
    "    if x <= 10:\n",
    "        raise MyCustomException(\"Number should be greater than 10\")\n",
    "except MyCustomException as error:\n",
    "    print(error.message)\n"
   ]
  },
  {
   "cell_type": "code",
   "execution_count": null,
   "id": "b10f35c2-f119-4d41-b34e-956b4d3c3c97",
   "metadata": {},
   "outputs": [],
   "source": [
    "Q6 Create a custom exception class. use this class to handle an exception."
   ]
  },
  {
   "cell_type": "code",
   "execution_count": null,
   "id": "0be5e2d7-1627-4e27-986d-896ca51eb06f",
   "metadata": {},
   "outputs": [],
   "source": [
    "class NegativeNumberException(Exception):\n",
    "    def __init__(self, message=\"Number cannot be negative\"):\n",
    "        self.message = message\n",
    "        super().__init__(self.message)\n",
    "\n",
    "def divide_numbers(x, y):\n",
    "    if y < 0:\n",
    "        raise NegativeNumberException()\n",
    "    else:\n",
    "        return x / y\n",
    "\n",
    "try:\n",
    "    result = divide_numbers(10, -2)\n",
    "    print(result)\n",
    "except NegativeNumberException as error:\n",
    "    print(error.message)\n"
   ]
  }
 ],
 "metadata": {
  "kernelspec": {
   "display_name": "Python 3 (ipykernel)",
   "language": "python",
   "name": "python3"
  },
  "language_info": {
   "codemirror_mode": {
    "name": "ipython",
    "version": 3
   },
   "file_extension": ".py",
   "mimetype": "text/x-python",
   "name": "python",
   "nbconvert_exporter": "python",
   "pygments_lexer": "ipython3",
   "version": "3.10.8"
  }
 },
 "nbformat": 4,
 "nbformat_minor": 5
}
